{
 "cells": [
  {
   "cell_type": "markdown",
   "id": "3fa186b6",
   "metadata": {},
   "source": [
    "# Single Layer Perceptron Learning Algorithm From Scratch"
   ]
  },
  {
   "cell_type": "code",
   "execution_count": 1,
   "id": "7720698f",
   "metadata": {},
   "outputs": [],
   "source": [
    "import numpy as np\n",
    "import pandas as pd\n",
    "import matplotlib.pyplot as plt\n",
    "%matplotlib inline\n",
    "import seaborn as sns"
   ]
  },
  {
   "cell_type": "code",
   "execution_count": 2,
   "id": "dfe1bba9",
   "metadata": {},
   "outputs": [],
   "source": [
    "# load the data\n",
    "df = pd.read_csv('IRIS.csv')"
   ]
  },
  {
   "cell_type": "markdown",
   "id": "a934b061",
   "metadata": {},
   "source": [
    "The dataset consists of 150 records, each representing a type of IRIS flower. There are three types of IRIS flowers, with 50 records for each type. Each record is described by four features. For our analysis, we will simplify the problem to be linearly separable by using only two out of the three flower types and two out of the four features."
   ]
  },
  {
   "cell_type": "code",
   "execution_count": 3,
   "id": "cbeb178a",
   "metadata": {},
   "outputs": [
    {
     "data": {
      "text/html": [
       "<div>\n",
       "<style scoped>\n",
       "    .dataframe tbody tr th:only-of-type {\n",
       "        vertical-align: middle;\n",
       "    }\n",
       "\n",
       "    .dataframe tbody tr th {\n",
       "        vertical-align: top;\n",
       "    }\n",
       "\n",
       "    .dataframe thead th {\n",
       "        text-align: right;\n",
       "    }\n",
       "</style>\n",
       "<table border=\"1\" class=\"dataframe\">\n",
       "  <thead>\n",
       "    <tr style=\"text-align: right;\">\n",
       "      <th></th>\n",
       "      <th>sepal_length</th>\n",
       "      <th>sepal_width</th>\n",
       "      <th>petal_length</th>\n",
       "      <th>petal_width</th>\n",
       "      <th>species</th>\n",
       "    </tr>\n",
       "  </thead>\n",
       "  <tbody>\n",
       "    <tr>\n",
       "      <th>0</th>\n",
       "      <td>5.1</td>\n",
       "      <td>3.5</td>\n",
       "      <td>1.4</td>\n",
       "      <td>0.2</td>\n",
       "      <td>Iris-setosa</td>\n",
       "    </tr>\n",
       "    <tr>\n",
       "      <th>1</th>\n",
       "      <td>4.9</td>\n",
       "      <td>3.0</td>\n",
       "      <td>1.4</td>\n",
       "      <td>0.2</td>\n",
       "      <td>Iris-setosa</td>\n",
       "    </tr>\n",
       "    <tr>\n",
       "      <th>2</th>\n",
       "      <td>4.7</td>\n",
       "      <td>3.2</td>\n",
       "      <td>1.3</td>\n",
       "      <td>0.2</td>\n",
       "      <td>Iris-setosa</td>\n",
       "    </tr>\n",
       "    <tr>\n",
       "      <th>3</th>\n",
       "      <td>4.6</td>\n",
       "      <td>3.1</td>\n",
       "      <td>1.5</td>\n",
       "      <td>0.2</td>\n",
       "      <td>Iris-setosa</td>\n",
       "    </tr>\n",
       "    <tr>\n",
       "      <th>4</th>\n",
       "      <td>5.0</td>\n",
       "      <td>3.6</td>\n",
       "      <td>1.4</td>\n",
       "      <td>0.2</td>\n",
       "      <td>Iris-setosa</td>\n",
       "    </tr>\n",
       "  </tbody>\n",
       "</table>\n",
       "</div>"
      ],
      "text/plain": [
       "   sepal_length  sepal_width  petal_length  petal_width      species\n",
       "0           5.1          3.5           1.4          0.2  Iris-setosa\n",
       "1           4.9          3.0           1.4          0.2  Iris-setosa\n",
       "2           4.7          3.2           1.3          0.2  Iris-setosa\n",
       "3           4.6          3.1           1.5          0.2  Iris-setosa\n",
       "4           5.0          3.6           1.4          0.2  Iris-setosa"
      ]
     },
     "execution_count": 3,
     "metadata": {},
     "output_type": "execute_result"
    }
   ],
   "source": [
    "df.head()"
   ]
  },
  {
   "cell_type": "code",
   "execution_count": 4,
   "id": "f101562b",
   "metadata": {},
   "outputs": [
    {
     "data": {
      "text/plain": [
       "(150, 5)"
      ]
     },
     "execution_count": 4,
     "metadata": {},
     "output_type": "execute_result"
    }
   ],
   "source": [
    "df.shape"
   ]
  },
  {
   "cell_type": "code",
   "execution_count": 5,
   "id": "f71b61ce",
   "metadata": {},
   "outputs": [
    {
     "data": {
      "text/plain": [
       "array(['Iris-setosa', 'Iris-versicolor', 'Iris-virginica'], dtype=object)"
      ]
     },
     "execution_count": 5,
     "metadata": {},
     "output_type": "execute_result"
    }
   ],
   "source": [
    "df['species'].unique()"
   ]
  },
  {
   "cell_type": "code",
   "execution_count": 6,
   "id": "a7e83a48",
   "metadata": {},
   "outputs": [
    {
     "data": {
      "text/plain": [
       "array(['Iris-setosa', 'Iris-versicolor'], dtype=object)"
      ]
     },
     "execution_count": 6,
     "metadata": {},
     "output_type": "execute_result"
    }
   ],
   "source": [
    "# remove one class of flowers and leave only two\n",
    "df = df[~(df['species'] == 'Iris-virginica')]\n",
    "df['species'].unique()"
   ]
  },
  {
   "cell_type": "code",
   "execution_count": 7,
   "id": "0808dd8f",
   "metadata": {},
   "outputs": [
    {
     "data": {
      "text/plain": [
       "(100, 5)"
      ]
     },
     "execution_count": 7,
     "metadata": {},
     "output_type": "execute_result"
    }
   ],
   "source": [
    "df.shape"
   ]
  },
  {
   "cell_type": "code",
   "execution_count": 8,
   "id": "4c9b3e6c",
   "metadata": {},
   "outputs": [
    {
     "data": {
      "text/html": [
       "<div>\n",
       "<style scoped>\n",
       "    .dataframe tbody tr th:only-of-type {\n",
       "        vertical-align: middle;\n",
       "    }\n",
       "\n",
       "    .dataframe tbody tr th {\n",
       "        vertical-align: top;\n",
       "    }\n",
       "\n",
       "    .dataframe thead th {\n",
       "        text-align: right;\n",
       "    }\n",
       "</style>\n",
       "<table border=\"1\" class=\"dataframe\">\n",
       "  <thead>\n",
       "    <tr style=\"text-align: right;\">\n",
       "      <th></th>\n",
       "      <th>sepal_length</th>\n",
       "      <th>sepal_width</th>\n",
       "      <th>petal_length</th>\n",
       "      <th>petal_width</th>\n",
       "    </tr>\n",
       "  </thead>\n",
       "  <tbody>\n",
       "    <tr>\n",
       "      <th>count</th>\n",
       "      <td>100.000000</td>\n",
       "      <td>100.000000</td>\n",
       "      <td>100.000000</td>\n",
       "      <td>100.000000</td>\n",
       "    </tr>\n",
       "    <tr>\n",
       "      <th>mean</th>\n",
       "      <td>5.471000</td>\n",
       "      <td>3.094000</td>\n",
       "      <td>2.862000</td>\n",
       "      <td>0.785000</td>\n",
       "    </tr>\n",
       "    <tr>\n",
       "      <th>std</th>\n",
       "      <td>0.641698</td>\n",
       "      <td>0.476057</td>\n",
       "      <td>1.448565</td>\n",
       "      <td>0.566288</td>\n",
       "    </tr>\n",
       "    <tr>\n",
       "      <th>min</th>\n",
       "      <td>4.300000</td>\n",
       "      <td>2.000000</td>\n",
       "      <td>1.000000</td>\n",
       "      <td>0.100000</td>\n",
       "    </tr>\n",
       "    <tr>\n",
       "      <th>25%</th>\n",
       "      <td>5.000000</td>\n",
       "      <td>2.800000</td>\n",
       "      <td>1.500000</td>\n",
       "      <td>0.200000</td>\n",
       "    </tr>\n",
       "    <tr>\n",
       "      <th>50%</th>\n",
       "      <td>5.400000</td>\n",
       "      <td>3.050000</td>\n",
       "      <td>2.450000</td>\n",
       "      <td>0.800000</td>\n",
       "    </tr>\n",
       "    <tr>\n",
       "      <th>75%</th>\n",
       "      <td>5.900000</td>\n",
       "      <td>3.400000</td>\n",
       "      <td>4.325000</td>\n",
       "      <td>1.300000</td>\n",
       "    </tr>\n",
       "    <tr>\n",
       "      <th>max</th>\n",
       "      <td>7.000000</td>\n",
       "      <td>4.400000</td>\n",
       "      <td>5.100000</td>\n",
       "      <td>1.800000</td>\n",
       "    </tr>\n",
       "  </tbody>\n",
       "</table>\n",
       "</div>"
      ],
      "text/plain": [
       "       sepal_length  sepal_width  petal_length  petal_width\n",
       "count    100.000000   100.000000    100.000000   100.000000\n",
       "mean       5.471000     3.094000      2.862000     0.785000\n",
       "std        0.641698     0.476057      1.448565     0.566288\n",
       "min        4.300000     2.000000      1.000000     0.100000\n",
       "25%        5.000000     2.800000      1.500000     0.200000\n",
       "50%        5.400000     3.050000      2.450000     0.800000\n",
       "75%        5.900000     3.400000      4.325000     1.300000\n",
       "max        7.000000     4.400000      5.100000     1.800000"
      ]
     },
     "execution_count": 8,
     "metadata": {},
     "output_type": "execute_result"
    }
   ],
   "source": [
    "df.describe()"
   ]
  },
  {
   "cell_type": "code",
   "execution_count": 9,
   "id": "cad145d5",
   "metadata": {},
   "outputs": [
    {
     "data": {
      "text/html": [
       "<div>\n",
       "<style scoped>\n",
       "    .dataframe tbody tr th:only-of-type {\n",
       "        vertical-align: middle;\n",
       "    }\n",
       "\n",
       "    .dataframe tbody tr th {\n",
       "        vertical-align: top;\n",
       "    }\n",
       "\n",
       "    .dataframe thead th {\n",
       "        text-align: right;\n",
       "    }\n",
       "</style>\n",
       "<table border=\"1\" class=\"dataframe\">\n",
       "  <thead>\n",
       "    <tr style=\"text-align: right;\">\n",
       "      <th></th>\n",
       "      <th>petal_length</th>\n",
       "      <th>petal_width</th>\n",
       "      <th>species</th>\n",
       "    </tr>\n",
       "  </thead>\n",
       "  <tbody>\n",
       "    <tr>\n",
       "      <th>0</th>\n",
       "      <td>1.4</td>\n",
       "      <td>0.2</td>\n",
       "      <td>Iris-setosa</td>\n",
       "    </tr>\n",
       "    <tr>\n",
       "      <th>1</th>\n",
       "      <td>1.4</td>\n",
       "      <td>0.2</td>\n",
       "      <td>Iris-setosa</td>\n",
       "    </tr>\n",
       "    <tr>\n",
       "      <th>2</th>\n",
       "      <td>1.3</td>\n",
       "      <td>0.2</td>\n",
       "      <td>Iris-setosa</td>\n",
       "    </tr>\n",
       "    <tr>\n",
       "      <th>3</th>\n",
       "      <td>1.5</td>\n",
       "      <td>0.2</td>\n",
       "      <td>Iris-setosa</td>\n",
       "    </tr>\n",
       "    <tr>\n",
       "      <th>4</th>\n",
       "      <td>1.4</td>\n",
       "      <td>0.2</td>\n",
       "      <td>Iris-setosa</td>\n",
       "    </tr>\n",
       "  </tbody>\n",
       "</table>\n",
       "</div>"
      ],
      "text/plain": [
       "   petal_length  petal_width      species\n",
       "0           1.4          0.2  Iris-setosa\n",
       "1           1.4          0.2  Iris-setosa\n",
       "2           1.3          0.2  Iris-setosa\n",
       "3           1.5          0.2  Iris-setosa\n",
       "4           1.4          0.2  Iris-setosa"
      ]
     },
     "execution_count": 9,
     "metadata": {},
     "output_type": "execute_result"
    }
   ],
   "source": [
    "# remove two features and leave only two\n",
    "df = df.iloc[:, -3:]\n",
    "df.head()"
   ]
  },
  {
   "cell_type": "code",
   "execution_count": 10,
   "id": "02bcb35c",
   "metadata": {},
   "outputs": [],
   "source": [
    "# add a column of ones for the bias weight, to be used in the model later\n",
    "df['xb'] = 1"
   ]
  },
  {
   "cell_type": "code",
   "execution_count": 11,
   "id": "6234ace3",
   "metadata": {},
   "outputs": [
    {
     "data": {
      "text/html": [
       "<div>\n",
       "<style scoped>\n",
       "    .dataframe tbody tr th:only-of-type {\n",
       "        vertical-align: middle;\n",
       "    }\n",
       "\n",
       "    .dataframe tbody tr th {\n",
       "        vertical-align: top;\n",
       "    }\n",
       "\n",
       "    .dataframe thead th {\n",
       "        text-align: right;\n",
       "    }\n",
       "</style>\n",
       "<table border=\"1\" class=\"dataframe\">\n",
       "  <thead>\n",
       "    <tr style=\"text-align: right;\">\n",
       "      <th></th>\n",
       "      <th>petal_length</th>\n",
       "      <th>petal_width</th>\n",
       "      <th>species</th>\n",
       "      <th>xb</th>\n",
       "      <th>species_enconded</th>\n",
       "    </tr>\n",
       "  </thead>\n",
       "  <tbody>\n",
       "    <tr>\n",
       "      <th>0</th>\n",
       "      <td>1.4</td>\n",
       "      <td>0.2</td>\n",
       "      <td>Iris-setosa</td>\n",
       "      <td>1</td>\n",
       "      <td>-1</td>\n",
       "    </tr>\n",
       "    <tr>\n",
       "      <th>1</th>\n",
       "      <td>1.4</td>\n",
       "      <td>0.2</td>\n",
       "      <td>Iris-setosa</td>\n",
       "      <td>1</td>\n",
       "      <td>-1</td>\n",
       "    </tr>\n",
       "    <tr>\n",
       "      <th>2</th>\n",
       "      <td>1.3</td>\n",
       "      <td>0.2</td>\n",
       "      <td>Iris-setosa</td>\n",
       "      <td>1</td>\n",
       "      <td>-1</td>\n",
       "    </tr>\n",
       "    <tr>\n",
       "      <th>3</th>\n",
       "      <td>1.5</td>\n",
       "      <td>0.2</td>\n",
       "      <td>Iris-setosa</td>\n",
       "      <td>1</td>\n",
       "      <td>-1</td>\n",
       "    </tr>\n",
       "    <tr>\n",
       "      <th>4</th>\n",
       "      <td>1.4</td>\n",
       "      <td>0.2</td>\n",
       "      <td>Iris-setosa</td>\n",
       "      <td>1</td>\n",
       "      <td>-1</td>\n",
       "    </tr>\n",
       "  </tbody>\n",
       "</table>\n",
       "</div>"
      ],
      "text/plain": [
       "   petal_length  petal_width      species  xb  species_enconded\n",
       "0           1.4          0.2  Iris-setosa   1                -1\n",
       "1           1.4          0.2  Iris-setosa   1                -1\n",
       "2           1.3          0.2  Iris-setosa   1                -1\n",
       "3           1.5          0.2  Iris-setosa   1                -1\n",
       "4           1.4          0.2  Iris-setosa   1                -1"
      ]
     },
     "execution_count": 11,
     "metadata": {},
     "output_type": "execute_result"
    }
   ],
   "source": [
    "# encode the two classes of IRIS to numerical values; eiher -1 or 1\n",
    "df['species_enconded'] = df['species'].map({'Iris-setosa': -1, 'Iris-versicolor':1})\n",
    "df.head()"
   ]
  },
  {
   "cell_type": "markdown",
   "id": "5e37707e",
   "metadata": {},
   "source": [
    "Split the data. 60 entries for trainging, 20 for validation and 20 for testing"
   ]
  },
  {
   "cell_type": "code",
   "execution_count": 12,
   "id": "f4fe077c",
   "metadata": {},
   "outputs": [
    {
     "data": {
      "text/plain": [
       "(60, 5)"
      ]
     },
     "execution_count": 12,
     "metadata": {},
     "output_type": "execute_result"
    }
   ],
   "source": [
    "# get the training set\n",
    "X = df.sample(60, random_state=1)\n",
    "X.shape"
   ]
  },
  {
   "cell_type": "code",
   "execution_count": 13,
   "id": "cc0a5390",
   "metadata": {},
   "outputs": [
    {
     "data": {
      "text/plain": [
       "(40, 5)"
      ]
     },
     "execution_count": 13,
     "metadata": {},
     "output_type": "execute_result"
    }
   ],
   "source": [
    "# validation and testing sets\n",
    "val_test = df[~df.isin(X)]\n",
    "val_test.dropna(inplace=True)\n",
    "val_test.shape"
   ]
  },
  {
   "cell_type": "code",
   "execution_count": 14,
   "id": "60ce4ed4",
   "metadata": {},
   "outputs": [
    {
     "data": {
      "text/plain": [
       "(20, 5)"
      ]
     },
     "execution_count": 14,
     "metadata": {},
     "output_type": "execute_result"
    }
   ],
   "source": [
    "# get the validation set\n",
    "Y_val = val_test.sample(20, random_state=1)\n",
    "Y_val.shape"
   ]
  },
  {
   "cell_type": "code",
   "execution_count": 15,
   "id": "bdea0035",
   "metadata": {},
   "outputs": [
    {
     "data": {
      "text/plain": [
       "(20, 5)"
      ]
     },
     "execution_count": 15,
     "metadata": {},
     "output_type": "execute_result"
    }
   ],
   "source": [
    "# get the testing set\n",
    "Y_test = val_test[~val_test.isin(Y_val)]\n",
    "Y_test.dropna(inplace=True)\n",
    "Y_test.shape"
   ]
  },
  {
   "cell_type": "code",
   "execution_count": 16,
   "id": "46ece31e",
   "metadata": {},
   "outputs": [
    {
     "data": {
      "text/html": [
       "<div>\n",
       "<style scoped>\n",
       "    .dataframe tbody tr th:only-of-type {\n",
       "        vertical-align: middle;\n",
       "    }\n",
       "\n",
       "    .dataframe tbody tr th {\n",
       "        vertical-align: top;\n",
       "    }\n",
       "\n",
       "    .dataframe thead th {\n",
       "        text-align: right;\n",
       "    }\n",
       "</style>\n",
       "<table border=\"1\" class=\"dataframe\">\n",
       "  <thead>\n",
       "    <tr style=\"text-align: right;\">\n",
       "      <th></th>\n",
       "      <th>petal_length</th>\n",
       "      <th>petal_width</th>\n",
       "      <th>xb</th>\n",
       "      <th>species_enconded</th>\n",
       "    </tr>\n",
       "  </thead>\n",
       "  <tbody>\n",
       "    <tr>\n",
       "      <th>80</th>\n",
       "      <td>3.8</td>\n",
       "      <td>1.1</td>\n",
       "      <td>1</td>\n",
       "      <td>1</td>\n",
       "    </tr>\n",
       "    <tr>\n",
       "      <th>84</th>\n",
       "      <td>4.5</td>\n",
       "      <td>1.5</td>\n",
       "      <td>1</td>\n",
       "      <td>1</td>\n",
       "    </tr>\n",
       "    <tr>\n",
       "      <th>33</th>\n",
       "      <td>1.4</td>\n",
       "      <td>0.2</td>\n",
       "      <td>1</td>\n",
       "      <td>-1</td>\n",
       "    </tr>\n",
       "    <tr>\n",
       "      <th>81</th>\n",
       "      <td>3.7</td>\n",
       "      <td>1.0</td>\n",
       "      <td>1</td>\n",
       "      <td>1</td>\n",
       "    </tr>\n",
       "    <tr>\n",
       "      <th>93</th>\n",
       "      <td>3.3</td>\n",
       "      <td>1.0</td>\n",
       "      <td>1</td>\n",
       "      <td>1</td>\n",
       "    </tr>\n",
       "  </tbody>\n",
       "</table>\n",
       "</div>"
      ],
      "text/plain": [
       "    petal_length  petal_width  xb  species_enconded\n",
       "80           3.8          1.1   1                 1\n",
       "84           4.5          1.5   1                 1\n",
       "33           1.4          0.2   1                -1\n",
       "81           3.7          1.0   1                 1\n",
       "93           3.3          1.0   1                 1"
      ]
     },
     "execution_count": 16,
     "metadata": {},
     "output_type": "execute_result"
    }
   ],
   "source": [
    "# drop the species column of type object\n",
    "X.drop('species', axis=1, inplace=True)\n",
    "Y_val.drop('species', axis=1, inplace=True)\n",
    "Y_test.drop('species', axis=1, inplace=True)\n",
    "X.head()"
   ]
  },
  {
   "cell_type": "markdown",
   "id": "b5ec5e8c",
   "metadata": {},
   "source": [
    "Training the perceptron"
   ]
  },
  {
   "cell_type": "code",
   "execution_count": 17,
   "id": "14417f48",
   "metadata": {},
   "outputs": [],
   "source": [
    "from IPython.display import clear_output\n",
    "import time"
   ]
  },
  {
   "cell_type": "code",
   "execution_count": 18,
   "id": "e8fd4406",
   "metadata": {},
   "outputs": [],
   "source": [
    "# set this variable to False, if you want to disable showing the model learning and fitting\n",
    "# a classification line\n",
    "show_learning = True"
   ]
  },
  {
   "cell_type": "code",
   "execution_count": 19,
   "id": "302d4588",
   "metadata": {},
   "outputs": [
    {
     "data": {
      "image/png": "[encoded data removed]",
      "text/plain": [
       "<Figure size 400x200 with 1 Axes>"
      ]
     },
     "metadata": {},
     "output_type": "display_data"
    },
    {
     "name": "stdout",
     "output_type": "stream",
     "text": [
      "loss at epoch 0: 28\n",
      "loss at epoch 1: 28\n",
      "loss at epoch 2: 11\n",
      "loss at epoch 3: 4\n",
      "loss at epoch 4: 3\n",
      "loss at epoch 5: 1\n",
      "loss at epoch 6: 3\n",
      "loss at epoch 7: 3\n",
      "loss at epoch 8: 0\n"
     ]
    }
   ],
   "source": [
    "# Initialize weights with random values and reshape to 1x3 matrix\n",
    "Wi = np.random.rand(3)\n",
    "Wi = Wi.reshape(1, 3)\n",
    "\n",
    "# Set learning rate\n",
    "eta = 0.01\n",
    "\n",
    "# Initialize loss and epoch\n",
    "loss = 1\n",
    "epoch = -1\n",
    "\n",
    "# Dictionary to store losses for each epoch\n",
    "losses = {}\n",
    "\n",
    "# Loop until loss is zero\n",
    "while loss != 0:\n",
    "    # Increment epoch and reset loss\n",
    "    epoch += 1\n",
    "    loss = 0\n",
    "\n",
    "    # Loop over all samples in the dataset\n",
    "    for i in range(len(X)):\n",
    "        # Get features and target for the current sample\n",
    "        Xi = X.iloc[i, :-1].to_numpy()\n",
    "        Xi = Xi.reshape(3, 1)\n",
    "        Ti = X.iloc[i, -1]\n",
    "\n",
    "        # Compute output using current weights\n",
    "        Yi = np.sign(np.dot(Wi, Xi))\n",
    "        \n",
    "        # Compute error\n",
    "        Ei = Ti - Yi\n",
    "        \n",
    "        # If output does not match target, update weights\n",
    "        if Ti != Yi:\n",
    "            # Increase loss by one for each misclassification\n",
    "            loss += 1 \n",
    "            # Compute gradient of error\n",
    "            dEi = -1 * Ei * Xi.reshape(1, 3)\n",
    "\n",
    "            # Update weights using gradient descent\n",
    "            Wi_plus1 = Wi - (eta * dEi)\n",
    "\n",
    "            # Copy updated weights for next iteration\n",
    "            Wi = Wi_plus1.copy()\n",
    "            \n",
    "            # If show_learning flag is True, plot the current decision boundary\n",
    "            if show_learning:\n",
    "                # Clear previous output\n",
    "                clear_output(wait=True)\n",
    "\n",
    "                # Generate x-values for decision boundary\n",
    "                x_values1 = np.linspace(0, 6, 60)\n",
    "                x_values2 = np.linspace(0, 2, 60)\n",
    "                \n",
    "                x_values = np.linspace(-25, 25, 60)\n",
    "                # Compute y-values for decision boundary\n",
    "                y_values = -(Wi[0][0] * x_values1 + Wi[0][2]) / Wi[0][1]\n",
    "\n",
    "                # Plot data points and decision boundary\n",
    "                plt.figure(figsize=(4,2))\n",
    "                ax1 = sns.scatterplot(x=X['petal_length'], y=X['petal_width'],\n",
    "                                      hue=X['species_enconded'])\n",
    "                sns.scatterplot(x=x_values, y=y_values, color='Red', ax=ax1)\n",
    "                \n",
    "                # Update legend labels\n",
    "                handles, labels = ax1.get_legend_handles_labels()\n",
    "                labels[0] = 'Iris-setosa'  # Assuming -1 is the first class\n",
    "                labels[1] = 'Iris-versicolor'  # Assuming 1 is the second class\n",
    "                ax1.legend(handles, labels)\n",
    "                \n",
    "                # Show the plot\n",
    "                plt.show()\n",
    "\n",
    "                # Pause for a short time to allow visualization of learning process\n",
    "                time.sleep(0.1)\n",
    "    \n",
    "    # Store loss for current epoch\n",
    "    losses[epoch] = loss\n",
    "\n",
    "# Print loss for each epoch\n",
    "for epoch, loss in losses.items():\n",
    "    print(f'loss at epoch {epoch}: {loss}')"
   ]
  },
  {
   "cell_type": "code",
   "execution_count": 20,
   "id": "a7a4d291",
   "metadata": {},
   "outputs": [
    {
     "data": {
      "text/plain": [
       "array([[-0.0270652 ,  0.32209863, -0.1988915 ]])"
      ]
     },
     "execution_count": 20,
     "metadata": {},
     "output_type": "execute_result"
    }
   ],
   "source": [
    "# learned weights\n",
    "Wi"
   ]
  },
  {
   "cell_type": "code",
   "execution_count": 21,
   "id": "c273bc56",
   "metadata": {},
   "outputs": [
    {
     "name": "stdout",
     "output_type": "stream",
     "text": [
      "Validation accuracy = 100.0%\n"
     ]
    }
   ],
   "source": [
    "# Validate the perceptron\n",
    "\n",
    "# Initialize a counter for correctly classified instances\n",
    "correctly_classified = 0\n",
    "\n",
    "# Iterate over each row in the validation set\n",
    "for index, row in Y_val.iterrows():\n",
    "    # Extract the feature values (excluding the last column which is the target)\n",
    "    Xi_val = row[:-1].to_numpy()\n",
    "    \n",
    "    # Extract the target value\n",
    "    Ti_val = row[-1]\n",
    "    \n",
    "    # Compute the predicted class label using the dot product of the weights and feature values\n",
    "    Yi_val = np.sign(np.dot(Wi, Xi_val))\n",
    "    \n",
    "    # If the predicted label matches the actual label, increment the counter\n",
    "    if Yi_val == Ti_val:\n",
    "        correctly_classified += 1\n",
    "\n",
    "# Print the validation accuracy as a percentage\n",
    "print(f'Validation accuracy = {correctly_classified/len(Y_val) * 100 }%')"
   ]
  },
  {
   "cell_type": "code",
   "execution_count": 22,
   "id": "61c55457",
   "metadata": {
    "scrolled": true
   },
   "outputs": [
    {
     "name": "stdout",
     "output_type": "stream",
     "text": [
      "Testing accuracy = 100.0%\n"
     ]
    }
   ],
   "source": [
    "# Test the perceptron\n",
    "\n",
    "# Initialize a counter for correctly classified instances\n",
    "correctly_classified = 0\n",
    "\n",
    "# Iterate over each row in the test set\n",
    "for index, row in Y_test.iterrows():\n",
    "    # Extract the feature values (excluding the last column which is the target)\n",
    "    Xi_test = row[:-1].to_numpy()\n",
    "    \n",
    "    # Extract the target value\n",
    "    Ti_test = row[-1]\n",
    "    \n",
    "    # Compute the predicted class label using the dot product of the weights and feature values\n",
    "    Yi_test = np.sign(np.dot(Wi, Xi_test))\n",
    "    \n",
    "    # If the predicted label matches the actual label, increment the counter\n",
    "    if Yi_test == Ti_test:\n",
    "        correctly_classified += 1\n",
    "\n",
    "# Print the testing accuracy as a percentage\n",
    "print(f'Testing accuracy = {correctly_classified/len(Y_test) * 100 }%')"
   ]
  },
  {
   "cell_type": "markdown",
   "id": "bd426a80",
   "metadata": {},
   "source": [
    "## Project Completed by:\n",
    "[Karim Nasr](https://www.linkedin.com/in/karim-nasr-abu-al-fath/)"
   ]
  }
 ],
 "metadata": {
  "kernelspec": {
   "display_name": "Python 3 (ipykernel)",
   "language": "python",
   "name": "python3"
  },
  "language_info": {
   "codemirror_mode": {
    "name": "ipython",
    "version": 3
   },
   "file_extension": ".py",
   "mimetype": "text/x-python",
   "name": "python",
   "nbconvert_exporter": "python",
   "pygments_lexer": "ipython3",
   "version": "3.11.5"
  }
 },
 "nbformat": 4,
 "nbformat_minor": 5
}
